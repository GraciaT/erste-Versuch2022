{
  "nbformat": 4,
  "nbformat_minor": 0,
  "metadata": {
    "colab": {
      "provenance": [],
      "collapsed_sections": [],
      "authorship_tag": "ABX9TyNv8TujN2c8L6mJz5RoNHku",
      "include_colab_link": true
    },
    "kernelspec": {
      "name": "python3",
      "display_name": "Python 3"
    },
    "language_info": {
      "name": "python"
    }
  },
  "cells": [
    {
      "cell_type": "markdown",
      "metadata": {
        "id": "view-in-github",
        "colab_type": "text"
      },
      "source": [
        "<a href=\"https://colab.research.google.com/github/GraciaT/erste-Versuch2022/blob/main/erster_versuch.ipynb\" target=\"_parent\"><img src=\"https://colab.research.google.com/assets/colab-badge.svg\" alt=\"Open In Colab\"/></a>"
      ]
    },
    {
      "cell_type": "markdown",
      "source": [
        "**Das ist ein erster Versuch**"
      ],
      "metadata": {
        "id": "_E39AX-SFG0A"
      }
    },
    {
      "cell_type": "code",
      "execution_count": 4,
      "metadata": {
        "colab": {
          "base_uri": "https://localhost:8080/"
        },
        "id": "O5xBdQi4DcUN",
        "outputId": "abe89a6b-ab7c-44b6-96e7-b47e5c5f7604"
      },
      "outputs": [
        {
          "output_type": "stream",
          "name": "stdout",
          "text": [
            "Hallo\n",
            "hallo1\n"
          ]
        }
      ],
      "source": [
        "print(\"Hallo\")\n",
        "print(\"hallo1\")"
      ]
    },
    {
      "cell_type": "code",
      "source": [
        "print(\"Hallo2\")"
      ],
      "metadata": {
        "colab": {
          "base_uri": "https://localhost:8080/"
        },
        "id": "C7MjvynnEKxP",
        "outputId": "868d892a-165a-41e9-f2c0-aa0d187fa5e4"
      },
      "execution_count": 3,
      "outputs": [
        {
          "output_type": "stream",
          "name": "stdout",
          "text": [
            "hallo2\n"
          ]
        }
      ]
    },
    {
      "cell_type": "code",
      "source": [
        "print (\"test\")"
      ],
      "metadata": {
        "id": "B3qq9bkeLcwN"
      },
      "execution_count": null,
      "outputs": []
    }
  ]
}